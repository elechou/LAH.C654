{
 "cells": [
  {
   "cell_type": "code",
   "execution_count": 1,
   "metadata": {},
   "outputs": [
    {
     "name": "stdout",
     "output_type": "stream",
     "text": [
      "(1, 1024) (3, 1024)\n",
      "tensor([[0.2918, 0.4702, 0.3242]])\n"
     ]
    }
   ],
   "source": [
    "from tqdm.auto import tqdm\n",
    "from sentence_transformers import SentenceTransformer, LoggingHandler\n",
    "import os\n",
    "\n",
    "# This model supports two prompts: \"s2p_query\" and \"s2s_query\" for sentence-to-passage and sentence-to-sentence tasks, respectively.\n",
    "# They are defined in `config_sentence_transformers.json`\n",
    "query_prompt_name = \"s2p_query\"\n",
    "queries = [\n",
    "    \"blue\"\n",
    "]\n",
    "# docs do not need any prompts\n",
    "docs = [\n",
    "    \"Generally uncommon and fairly local small diving duck. Frequents lakes, reservoirs, and rivers. Shy, often found alone or in small groups; frequently kept in European waterfowl collections. Both sexes have bushy crest. Striking male mostly white with black face mask and fine black lines on sides of breast and flanks. Female has dark rusty brown head with big white throat and cheek patch. In flight appears strikingly black-and-white.\",\n",
    "    \"Beautiful little blue-and-orange bird with a long, pointed bill. Often rather shy and inconspicuous despite bright plumage. Found along rivers, streams, lakes, and ponds—almost any fresh or brackish habitat with small fish. Often perches quietly in trees over water; most often seen in very fast low flight as a turquoise flash over the water, usually flying away. Easily detected once its high, shrill whistled call is learned, even if the bird itself is hidden. The only small blue kingfisher over much of its range.\",\n",
    "    \"Medium-sized, dark brown shearwater. Has narrow, crooked wings and flies with quick, snappy wingbeats. Variable underwing pattern, usually rather dark with a less distinct silvery flash than Sooty Shearwater, but difficult to judge depending on lighting. Common in the Pacific Ocean, especially around Australia and New Zealand and up to the Bering Sea. Unknown from South America. Can be abundant in ocean waters off Alaska, gathering in enormous flocks; less common further south. Extremely similar to Sooty Shearwater. Short-tailed is lighter and has more crooked wings; also look for slightly shorter bill and more rounded head.\"\n",
    "]\n",
    "\n",
    "# ！The default dimension is 1024, if you need other dimensions, please clone the model and modify `modules.json` to replace `2_Dense_1024` with another dimension, e.g. `2_Dense_256` or `2_Dense_8192` !\n",
    "# 指定模型缓存路径\n",
    "cache_folder = os.path.expanduser('/Users/shou/Code/huggingface_models')\n",
    "os.makedirs(cache_folder, exist_ok=True)\n",
    "\n",
    "# 加载模型并显示进度\n",
    "model = SentenceTransformer(\"dunzhang/stella_en_1.5B_v5\",\n",
    "                             cache_folder=cache_folder, \n",
    "                             local_files_only=False,\n",
    "                             trust_remote_code=True)\n",
    "\n",
    "query_embeddings = model.encode(queries, prompt_name=query_prompt_name)\n",
    "doc_embeddings = model.encode(docs)\n",
    "print(query_embeddings.shape, doc_embeddings.shape)\n",
    "# (2, 1024) (2, 1024)\n",
    "\n",
    "similarities = model.similarity(query_embeddings, doc_embeddings)\n",
    "print(similarities)\n",
    "# tensor([[0.8179, 0.2958],\n",
    "#         [0.3194, 0.7854]])\n",
    "\n",
    "# tensor([[0.5851, 0.2449],\n",
    "#         [0.2676, 0.3335]])\n",
    "\n",
    "# (1, 1024) (2, 1024)\n",
    "# tensor([[0.2676, 0.3335]])"
   ]
  }
 ],
 "metadata": {
  "kernelspec": {
   "display_name": "venv",
   "language": "python",
   "name": "python3"
  },
  "language_info": {
   "codemirror_mode": {
    "name": "ipython",
    "version": 3
   },
   "file_extension": ".py",
   "mimetype": "text/x-python",
   "name": "python",
   "nbconvert_exporter": "python",
   "pygments_lexer": "ipython3",
   "version": "3.11.10"
  }
 },
 "nbformat": 4,
 "nbformat_minor": 2
}
