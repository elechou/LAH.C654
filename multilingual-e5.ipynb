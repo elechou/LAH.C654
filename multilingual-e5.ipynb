{
 "cells": [
  {
   "cell_type": "code",
   "execution_count": null,
   "metadata": {},
   "outputs": [],
   "source": [
    "from sentence_transformers import SentenceTransformer\n",
    "import numpy as np\n",
    "import json\n",
    "import os\n",
    "\n",
    "\n",
    "class SemanticMatcher:\n",
    "    def __init__(self, entries):\n",
    "        \"\"\"\n",
    "        Initialize the semantic matcher\n",
    "\n",
    "        :param entries: Dict, {key: {description}}\n",
    "        \"\"\"\n",
    "\n",
    "        # Specify a local download path\n",
    "        cache_folder = os.path.expanduser(\"/Users/shou/Code/huggingface_models\")\n",
    "\n",
    "        # Try downloading manually first\n",
    "        self.model = SentenceTransformer(\n",
    "            \"intfloat/multilingual-e5-large\",\n",
    "            cache_folder=cache_folder,\n",
    "            local_files_only=False,\n",
    "        )\n",
    "\n",
    "        self.entries = entries\n",
    "        # Embed all data\n",
    "        self.entry_embeddings = {}\n",
    "        for key, entry_info in entries.items():\n",
    "            entry_text = entry_info[\"identification\"]\n",
    "            self.entry_embeddings[key] = self.model.encode(f\"passage: {entry_text}\")\n",
    "\n",
    "    def match(self, query, top_k=3, threshold=0.5):\n",
    "        \"\"\"\n",
    "        Search the queries.\n",
    "\n",
    "        :param query: Query keywords\n",
    "        :param top_k: Returns the top k most similar results\n",
    "        :param threshold: Similarity threshold\n",
    "        :return: Matching entries and their similarities\n",
    "        \"\"\"\n",
    "        # Generate an embedding vector for the query\n",
    "        query_with_prefix = f\"query: {query}\"\n",
    "        query_embedding = self.model.encode(query_with_prefix)\n",
    "\n",
    "        # Calculating similarity\n",
    "        similarities = {}\n",
    "        for key, entry_embedding in self.entry_embeddings.items():\n",
    "            similarity = np.dot(query_embedding, entry_embedding) / (\n",
    "                np.linalg.norm(query_embedding) * np.linalg.norm(entry_embedding)\n",
    "            )\n",
    "            similarities[key] = similarity\n",
    "\n",
    "        # Sort by similarity\n",
    "        sorted_matches = sorted(similarities.items(), key=lambda x: x[1], reverse=True)\n",
    "\n",
    "        # Filter and return results\n",
    "        filtered_matches = [\n",
    "            (key, similarity)\n",
    "            for key, similarity in sorted_matches\n",
    "            if similarity >= threshold\n",
    "        ]\n",
    "\n",
    "        return filtered_matches[:top_k]"
   ]
  },
  {
   "cell_type": "code",
   "execution_count": 40,
   "metadata": {},
   "outputs": [],
   "source": [
    "# Input bird identifications\n",
    "with open(\"ebird_data.json\",'r', encoding='UTF-8') as f:\n",
    "     entries = json.load(f)\n",
    "\n",
    "# Encode the passages\n",
    "matcher = SemanticMatcher(entries)"
   ]
  },
  {
   "cell_type": "code",
   "execution_count": 54,
   "metadata": {},
   "outputs": [
    {
     "name": "stdout",
     "output_type": "stream",
     "text": [
      "\n",
      "Search: 中型でやや細身のフクロウで、羽角が長い。北半球に広く分布する。北アメリカの個体はやや色が濃く、模様が粗く、顔が橙黄色で目が黄色い。ユーラシア大陸の個体群は、全体的に色が薄く、特に顔の色が薄く、赤みがかった目をしている。夜行性で、夕暮れや夜明けに採餌する姿がまれに見られる。草が茂った雑木林や針葉樹林など、ねぐらのための植生が密な環境と、狩りをするための開けた場所が混在するところで見られる。珍しく、めったに見られないが、冬に数十羽でねぐらに集まることがある（幸運にもねぐらを見つけたら、彼らを妨害しないこと）。コミミズクと比較できる。典型的な鳴き声は低く「ウーウー」と繰り返し、また、猫のような叫び声や犬のような吠え声など、幅広い声を出す。\n",
      "Matched: Long-eared Owl, Similarity: 0.8429\n",
      "Detail: Asio otus https://ebird.org/species/loeowl/JP-13\n",
      "Matched: Eyebrowed Thrush, Similarity: 0.8218\n",
      "Detail: Turdus obscurus https://ebird.org/species/eyethr/JP-13\n",
      "Matched: Wilson's Storm-Petrel, Similarity: 0.8171\n",
      "Detail: Oceanites oceanicus https://ebird.org/species/wispet/JP-13\n"
     ]
    }
   ],
   "source": [
    "# Queries\n",
    "test_queries = [\"中型でやや細身のフクロウで、羽角が長い。北半球に広く分布する。北アメリカの個体はやや色が濃く、模様が粗く、顔が橙黄色で目が黄色い。ユーラシア大陸の個体群は、全体的に色が薄く、特に顔の色が薄く、赤みがかった目をしている。夜行性で、夕暮れや夜明けに採餌する姿がまれに見られる。草が茂った雑木林や針葉樹林など、ねぐらのための植生が密な環境と、狩りをするための開けた場所が混在するところで見られる。珍しく、めったに見られないが、冬に数十羽でねぐらに集まることがある（幸運にもねぐらを見つけたら、彼らを妨害しないこと）。コミミズクと比較できる。典型的な鳴き声は低く「ウーウー」と繰り返し、また、猫のような叫び声や犬のような吠え声など、幅広い声を出す。\"]\n",
    "for query in test_queries:\n",
    "    print(f\"\\nSearch: {query}\")\n",
    "    results = matcher.match(query)\n",
    "\n",
    "    for key, similarity in results:\n",
    "        print(f\"Matched: {key}, Similarity: {similarity:.4f}\")\n",
    "        print(\"Detail:\", entries[key][\"binomialName\"], entries[key][\"url\"])"
   ]
  }
 ],
 "metadata": {
  "kernelspec": {
   "display_name": "venv",
   "language": "python",
   "name": "python3"
  },
  "language_info": {
   "codemirror_mode": {
    "name": "ipython",
    "version": 3
   },
   "file_extension": ".py",
   "mimetype": "text/x-python",
   "name": "python",
   "nbconvert_exporter": "python",
   "pygments_lexer": "ipython3",
   "version": "3.9.6"
  }
 },
 "nbformat": 4,
 "nbformat_minor": 2
}
