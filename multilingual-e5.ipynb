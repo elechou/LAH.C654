{
 "cells": [
  {
   "cell_type": "code",
   "execution_count": 1,
   "metadata": {},
   "outputs": [
    {
     "name": "stderr",
     "output_type": "stream",
     "text": [
      "/Users/shou/Code/LAH.C654/venv/lib/python3.11/site-packages/sentence_transformers/cross_encoder/CrossEncoder.py:13: TqdmExperimentalWarning: Using `tqdm.autonotebook.tqdm` in notebook mode. Use `tqdm.tqdm` instead to force console mode (e.g. in jupyter console)\n",
      "  from tqdm.autonotebook import tqdm, trange\n"
     ]
    }
   ],
   "source": [
    "from sentence_transformers import SentenceTransformer\n",
    "import numpy as np\n",
    "import json\n",
    "import os\n",
    "\n",
    "class SemanticMatcher:\n",
    "    def __init__(self, entries):\n",
    "        \"\"\"\n",
    "        Initialize the semantic matcher\n",
    "\n",
    "        :param entries: Dict, {key: {description}}\n",
    "        \"\"\"\n",
    "        # Add print for debugging\n",
    "        print(f\"Initializing SemanticMatcher with {len(entries)} entries\")\n",
    "\n",
    "        # Specify a local download path\n",
    "        cache_folder = os.path.expanduser(\"/Users/shou/Code/huggingface_models\")\n",
    "        \n",
    "        try:\n",
    "            # Try downloading manually first\n",
    "            self.model = SentenceTransformer(\n",
    "                \"intfloat/multilingual-e5-large\",\n",
    "                cache_folder=cache_folder,\n",
    "                local_files_only=False,\n",
    "            )\n",
    "            print(\"Model loaded successfully\")\n",
    "        except Exception as e:\n",
    "            print(f\"Error loading model: {str(e)}\")\n",
    "            raise\n",
    "\n",
    "        self.entries = entries\n",
    "        # Embed all data\n",
    "        self.entry_embeddings = {}\n",
    "        print(\"Starting to embed entries...\")\n",
    "        \n",
    "        for key, entry_info in entries.items():\n",
    "            if \"identification\" not in entry_info:\n",
    "                print(f\"Warning: 'identification' field missing for key {key}\")\n",
    "                continue\n",
    "                \n",
    "            entry_text = entry_info[\"identification\"]\n",
    "            try:\n",
    "                self.entry_embeddings[key] = self.model.encode(entry_text)\n",
    "                if len(self.entry_embeddings) % 100 == 0:  # Progress indicator\n",
    "                    print(f\"Embedded {len(self.entry_embeddings)} entries\")\n",
    "            except Exception as e:\n",
    "                print(f\"Error embedding entry {key}: {str(e)}\")\n",
    "                \n",
    "        print(f\"Finished embedding {len(self.entry_embeddings)} entries\")\n",
    "\n",
    "    def match(self, query, top_k=3, threshold=0):\n",
    "        \"\"\"\n",
    "        Search the queries.\n",
    "\n",
    "        :param query: Query keywords\n",
    "        :param top_k: Returns the top k most similar results\n",
    "        :param threshold: Similarity threshold\n",
    "        :return: Matching entries and their similarities\n",
    "        \"\"\"\n",
    "        if not self.entry_embeddings:\n",
    "            print(\"Warning: No entries were embedded. Check if entries were processed correctly.\")\n",
    "            return []\n",
    "\n",
    "        print(f\"Processing query: {query}\")\n",
    "        \n",
    "        try:\n",
    "            # Generate an embedding vector for the query\n",
    "            query_with_prefix = f\"query: {query}\"\n",
    "            query_embedding = self.model.encode(query_with_prefix)\n",
    "            \n",
    "            # Calculating similarity\n",
    "            similarities = {}\n",
    "            for key, entry_embedding in self.entry_embeddings.items():\n",
    "                similarity = np.dot(query_embedding, entry_embedding) / (\n",
    "                    np.linalg.norm(query_embedding) * np.linalg.norm(entry_embedding)\n",
    "                )\n",
    "                similarities[key] = similarity\n",
    "\n",
    "            # Sort by similarity\n",
    "            sorted_matches = sorted(similarities.items(), key=lambda x: x[1], reverse=True)\n",
    "\n",
    "            # Filter and return results\n",
    "            filtered_matches = [\n",
    "                (key, similarity)\n",
    "                for key, similarity in sorted_matches\n",
    "                if similarity >= threshold\n",
    "            ]\n",
    "            \n",
    "            print(f\"Found {len(filtered_matches)} matches above threshold {threshold}\")\n",
    "            return filtered_matches[:top_k]\n",
    "            \n",
    "        except Exception as e:\n",
    "            print(f\"Error during matching: {str(e)}\")\n",
    "            return []"
   ]
  },
  {
   "cell_type": "code",
   "execution_count": 2,
   "metadata": {},
   "outputs": [
    {
     "name": "stdout",
     "output_type": "stream",
     "text": [
      "Initializing SemanticMatcher with 396 entries\n",
      "Model loaded successfully\n",
      "Starting to embed entries...\n",
      "Embedded 100 entries\n",
      "Embedded 200 entries\n",
      "Embedded 300 entries\n",
      "Finished embedding 396 entries\n"
     ]
    }
   ],
   "source": [
    "# Input bird identifications\n",
    "with open(\"ebird_data.json\",'r', encoding='UTF-8') as f:\n",
    "     entries = json.load(f)\n",
    "\n",
    "# Encode the passages\n",
    "matcher = SemanticMatcher(entries)"
   ]
  },
  {
   "cell_type": "code",
   "execution_count": 3,
   "metadata": {},
   "outputs": [
    {
     "name": "stdout",
     "output_type": "stream",
     "text": [
      "\n",
      "Search: blue\n",
      "Processing query: blue\n",
      "Found 396 matches above threshold 0\n",
      "Matched: Verditer Flycatcher, Similarity: 0.8099\n",
      "Detail: Eumyias thalassinus https://ebird.org/species/verfly4/JP-13\n",
      "Matched: Fairy Pitta, Similarity: 0.7996\n",
      "Detail: Pitta nympha https://ebird.org/species/faipit1/JP-13\n",
      "Matched: Common Kingfisher, Similarity: 0.7984\n",
      "Detail: Alcedo atthis https://ebird.org/species/comkin1/JP-13\n"
     ]
    }
   ],
   "source": [
    "# Queries\n",
    "test_queries = [\"blue\"]\n",
    "for query in test_queries:\n",
    "    print(f\"\\nSearch: {query}\")\n",
    "    results = matcher.match(query)\n",
    "\n",
    "    if not results:\n",
    "        print(\"No results found\")\n",
    "    else:\n",
    "        for key, similarity in results:\n",
    "            print(f\"Matched: {key}, Similarity: {similarity:.4f}\")\n",
    "            print(\"Detail:\", entries[key][\"binomialName\"], entries[key][\"url\"])"
   ]
  },
  {
   "cell_type": "code",
   "execution_count": 4,
   "metadata": {},
   "outputs": [
    {
     "name": "stdout",
     "output_type": "stream",
     "text": [
      "\n",
      "Search: blue\n",
      "Processing query: blue\n",
      "Found 396 matches above threshold 0\n",
      "Matched: Verditer Flycatcher, Similarity: 0.8099\n",
      "Detail: Eumyias thalassinus https://ebird.org/species/verfly4/JP-13\n",
      "Matched: Fairy Pitta, Similarity: 0.7996\n",
      "Detail: Pitta nympha https://ebird.org/species/faipit1/JP-13\n",
      "Matched: Common Kingfisher, Similarity: 0.7984\n",
      "Detail: Alcedo atthis https://ebird.org/species/comkin1/JP-13\n"
     ]
    }
   ],
   "source": [
    "# Queries\n",
    "test_queries = [\"blue\"]\n",
    "for query in test_queries:\n",
    "    print(f\"\\nSearch: {query}\")\n",
    "    results = matcher.match(query)\n",
    "\n",
    "    if not results:\n",
    "        print(\"No results found\")\n",
    "    else:\n",
    "        for key, similarity in results:\n",
    "            print(f\"Matched: {key}, Similarity: {similarity:.4f}\")\n",
    "            print(\"Detail:\", entries[key][\"binomialName\"], entries[key][\"url\"])"
   ]
  },
  {
   "cell_type": "code",
   "execution_count": null,
   "metadata": {},
   "outputs": [
    {
     "data": {
      "text/html": [
       "\n",
       "        <iframe\n",
       "            width=\"100%\"\n",
       "            height=\"650\"\n",
       "            src=\"http://127.0.0.1:8050/\"\n",
       "            frameborder=\"0\"\n",
       "            allowfullscreen\n",
       "            \n",
       "        ></iframe>\n",
       "        "
      ],
      "text/plain": [
       "<IPython.lib.display.IFrame at 0x15af25ed0>"
      ]
     },
     "metadata": {},
     "output_type": "display_data"
    },
    {
     "name": "stdout",
     "output_type": "stream",
     "text": [
      "Processing query: blue\n",
      "Found 396 matches above threshold 0\n",
      "Processing query: blue\n",
      "Found 396 matches above threshold 0\n",
      "Processing query: blue\n",
      "Found 396 matches above threshold 0\n"
     ]
    }
   ],
   "source": [
    "from dash import Dash, dcc, html, Input, Output, State, callback\n",
    "\n",
    "external_stylesheets = [\"https://codepen.io/chriddyp/pen/bWLwgP.css\"]\n",
    "\n",
    "app = Dash(__name__, title=\"RAG-ebird\", external_stylesheets=external_stylesheets)\n",
    "\n",
    "app.layout = html.Div(\n",
    "    [\n",
    "        dcc.Input(\n",
    "            id=\"input-text-state\",\n",
    "            type=\"text\",\n",
    "            value=\"blue\",\n",
    "            style={\"width\": \"900px\", \"margin\": \"20px\"},\n",
    "        ),\n",
    "        html.Button(\n",
    "            id=\"submit-button-state\",\n",
    "            n_clicks=0,\n",
    "            children=\"Submit\",\n",
    "            style={\"width\": \"120px\"},\n",
    "        ),\n",
    "        html.Div(id=\"output-state\", style={\"display\": \"flex\"}),\n",
    "    ]\n",
    ")\n",
    "\n",
    "\n",
    "def return_iframe(macaulayID):\n",
    "    macaulayLink = \"https://macaulaylibrary.org/asset/\" + macaulayID + \"/embed\"\n",
    "\n",
    "    iframeObj = html.Iframe(\n",
    "        src=macaulayLink,\n",
    "        height=600,\n",
    "        width=320,\n",
    "        style={\"border\": \"none\"},\n",
    "        allow=\"fullscreen\",\n",
    "    )\n",
    "\n",
    "    return iframeObj\n",
    "\n",
    "\n",
    "@callback(\n",
    "    Output(\"output-state\", \"children\"),\n",
    "    Input(\"submit-button-state\", \"n_clicks\"),\n",
    "    State(\"input-text-state\", \"value\"),\n",
    ")\n",
    "def update_output(n_clicks, input_text):\n",
    "    # 3 iframes\n",
    "    results = matcher.match(input_text)\n",
    "    iframes = []\n",
    "\n",
    "    for key, similarity in results:\n",
    "        thisIframe = return_iframe(entries[key][\"macaulayID\"])\n",
    "        iframes.append(\n",
    "            html.Div(\n",
    "                [f\"Similarity: {similarity:.4f}\", thisIframe],\n",
    "                style={\n",
    "                    \"display\": \"flex\",\n",
    "                    \"flex-direction\": \"column\",\n",
    "                    \"margin\": \"20px\",\n",
    "                    \"font-family\": \"jura\",\n",
    "                    \"font-weight\": \"bold\",\n",
    "                },\n",
    "            )\n",
    "        )\n",
    "        # iframes.append(thisIframe)\n",
    "\n",
    "    return iframes\n",
    "\n",
    "\n",
    "if __name__ == \"__main__\":\n",
    "    app.run(debug=True)"
   ]
  }
 ],
 "metadata": {
  "kernelspec": {
   "display_name": "venv",
   "language": "python",
   "name": "python3"
  },
  "language_info": {
   "codemirror_mode": {
    "name": "ipython",
    "version": 3
   },
   "file_extension": ".py",
   "mimetype": "text/x-python",
   "name": "python",
   "nbconvert_exporter": "python",
   "pygments_lexer": "ipython3",
   "version": "3.11.10"
  }
 },
 "nbformat": 4,
 "nbformat_minor": 2
}
