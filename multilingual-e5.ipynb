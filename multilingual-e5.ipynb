{
 "cells": [
  {
   "cell_type": "code",
   "execution_count": 55,
   "metadata": {},
   "outputs": [],
   "source": [
    "from sentence_transformers import SentenceTransformer\n",
    "import numpy as np\n",
    "import json\n",
    "import os\n",
    "\n",
    "\n",
    "class SemanticMatcher:\n",
    "    def __init__(self, entries):\n",
    "        \"\"\"\n",
    "        Initialize the semantic matcher\n",
    "\n",
    "        :param entries: Dict, {key: {description}}\n",
    "        \"\"\"\n",
    "\n",
    "        # Specify a local download path\n",
    "        cache_folder = os.path.expanduser(\"/Users/shou/Code/huggingface_models\")\n",
    "\n",
    "        # Try downloading manually first\n",
    "        self.model = SentenceTransformer(\n",
    "            \"intfloat/multilingual-e5-large\",\n",
    "            cache_folder=cache_folder,\n",
    "            local_files_only=False,\n",
    "        )\n",
    "\n",
    "        self.entries = entries\n",
    "        # Embed all data\n",
    "        self.entry_embeddings = {}\n",
    "        for key, entry_info in entries.items():\n",
    "            entry_text = entry_info[\"identification\"]\n",
    "            self.entry_embeddings[key] = self.model.encode(f\"passage: {entry_text}\")\n",
    "\n",
    "    def match(self, query, top_k=3, threshold=0.5):\n",
    "        \"\"\"\n",
    "        Search the queries.\n",
    "\n",
    "        :param query: Query keywords\n",
    "        :param top_k: Returns the top k most similar results\n",
    "        :param threshold: Similarity threshold\n",
    "        :return: Matching entries and their similarities\n",
    "        \"\"\"\n",
    "        # Generate an embedding vector for the query\n",
    "        query_with_prefix = f\"query: {query}\"\n",
    "        query_embedding = self.model.encode(query_with_prefix)\n",
    "\n",
    "        # Calculating similarity\n",
    "        similarities = {}\n",
    "        for key, entry_embedding in self.entry_embeddings.items():\n",
    "            similarity = np.dot(query_embedding, entry_embedding) / (\n",
    "                np.linalg.norm(query_embedding) * np.linalg.norm(entry_embedding)\n",
    "            )\n",
    "            similarities[key] = similarity\n",
    "\n",
    "        # Sort by similarity\n",
    "        sorted_matches = sorted(similarities.items(), key=lambda x: x[1], reverse=True)\n",
    "\n",
    "        # Filter and return results\n",
    "        filtered_matches = [\n",
    "            (key, similarity)\n",
    "            for key, similarity in sorted_matches\n",
    "            if similarity >= threshold\n",
    "        ]\n",
    "\n",
    "        return filtered_matches[:top_k]"
   ]
  },
  {
   "cell_type": "code",
   "execution_count": 56,
   "metadata": {},
   "outputs": [],
   "source": [
    "# Input bird identifications\n",
    "with open(\"ebird_data.json\",'r', encoding='UTF-8') as f:\n",
    "     entries = json.load(f)\n",
    "\n",
    "# Encode the passages\n",
    "matcher = SemanticMatcher(entries)"
   ]
  },
  {
   "cell_type": "code",
   "execution_count": 60,
   "metadata": {},
   "outputs": [
    {
     "name": "stdout",
     "output_type": "stream",
     "text": [
      "\n",
      "Search: yellow\n",
      "Matched: Eastern Yellow Wagtail, Similarity: 0.8241\n",
      "Detail: Motacilla tschutschensis https://ebird.org/species/eaywag/JP-13\n",
      "Matched: Citrine Wagtail, Similarity: 0.8187\n",
      "Detail: Motacilla citreola https://ebird.org/species/citwag/JP-13\n",
      "Matched: Yellow-bellied Tit, Similarity: 0.8180\n",
      "Detail: Periparus venustulus https://ebird.org/species/yebtit4/JP-13\n"
     ]
    }
   ],
   "source": [
    "# Queries\n",
    "test_queries = [\"yellow\"]\n",
    "for query in test_queries:\n",
    "    print(f\"\\nSearch: {query}\")\n",
    "    results = matcher.match(query)\n",
    "\n",
    "    for key, similarity in results:\n",
    "        print(f\"Matched: {key}, Similarity: {similarity:.4f}\")\n",
    "        print(\"Detail:\", entries[key][\"binomialName\"], entries[key][\"url\"])"
   ]
  }
 ],
 "metadata": {
  "kernelspec": {
   "display_name": "venv",
   "language": "python",
   "name": "python3"
  },
  "language_info": {
   "codemirror_mode": {
    "name": "ipython",
    "version": 3
   },
   "file_extension": ".py",
   "mimetype": "text/x-python",
   "name": "python",
   "nbconvert_exporter": "python",
   "pygments_lexer": "ipython3",
   "version": "3.9.6"
  }
 },
 "nbformat": 4,
 "nbformat_minor": 2
}
