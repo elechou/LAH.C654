{
 "cells": [
  {
   "cell_type": "code",
   "execution_count": null,
   "metadata": {},
   "outputs": [],
   "source": [
    "from sentence_transformers import SentenceTransformer\n",
    "import numpy as np\n",
    "import json\n",
    "import os\n",
    "\n",
    "class SemanticMatcher:\n",
    "    def __init__(self, entries):\n",
    "        \"\"\"\n",
    "        Initialize the semantic matcher\n",
    "        \n",
    "        :param entries: Dict, {key: {description}}\n",
    "        \"\"\"\n",
    "\n",
    "        # Specify a local download path\n",
    "        cache_folder = os.path.expanduser('/Users/shou/Code/huggingface_models')\n",
    "\n",
    "        # Try downloading manually first\n",
    "        self.model = SentenceTransformer('intfloat/multilingual-e5-large', \n",
    "                                    cache_folder=cache_folder, \n",
    "                                    local_files_only=False)\n",
    "        # self.model = SentenceTransformer('intfloat/multilingual-e5-large')\n",
    "        \n",
    "        self.entries = entries\n",
    "        # Embed all data\n",
    "        self.entry_embeddings = {}\n",
    "        for key, entry_info in entries.items():\n",
    "            entry_text = entry_info['identification']\n",
    "            self.entry_embeddings[key] = self.model.encode(f\"passage: {entry_text}\")\n",
    "\n",
    "    def match(self, query, top_k=3, threshold=0.5):\n",
    "        \"\"\"\n",
    "        Search the queries\n",
    "        \n",
    "        :param query: 查询关键词\n",
    "        :param top_k: 返回最相似的前k个结果\n",
    "        :param threshold: 相似度阈值\n",
    "        :return: 匹配的词条及其相似度\n",
    "        \"\"\"\n",
    "        # 生成查询的嵌入向量\n",
    "        query_with_prefix = f\"query: {query}\"\n",
    "        query_embedding = self.model.encode(query_with_prefix)\n",
    "        \n",
    "        # 计算相似度\n",
    "        similarities = {}\n",
    "        for key, entry_embedding in self.entry_embeddings.items():\n",
    "            similarity = np.dot(query_embedding, entry_embedding) / (\n",
    "                np.linalg.norm(query_embedding) * np.linalg.norm(entry_embedding)\n",
    "            )\n",
    "            similarities[key] = similarity\n",
    "        \n",
    "        # 根据相似度排序\n",
    "        sorted_matches = sorted(\n",
    "            similarities.items(), \n",
    "            key=lambda x: x[1], \n",
    "            reverse=True\n",
    "        )\n",
    "        \n",
    "        # 过滤并返回结果\n",
    "        filtered_matches = [\n",
    "            (key, similarity) \n",
    "            for key, similarity in sorted_matches \n",
    "            if similarity >= threshold\n",
    "        ]\n",
    "        \n",
    "        return filtered_matches[:top_k]\n"
   ]
  },
  {
   "cell_type": "code",
   "execution_count": 40,
   "metadata": {},
   "outputs": [],
   "source": [
    "# Input bird identifications\n",
    "with open(\"ebird_data.json\",'r', encoding='UTF-8') as f:\n",
    "     entries = json.load(f)\n",
    "\n",
    "# Encode the passages\n",
    "matcher = SemanticMatcher(entries)"
   ]
  },
  {
   "cell_type": "code",
   "execution_count": 45,
   "metadata": {},
   "outputs": [
    {
     "name": "stdout",
     "output_type": "stream",
     "text": [
      "\n",
      "Search: オスの成鳥は、頭が青灰色、背が褐色、腹がオレンジ色\n",
      "Matched: Izu Thrush, Similarity: 0.8120\n",
      "Detail: Turdus celaenops https://ebird.org/species/izuthr1/JP-13\n",
      "Matched: Slaty-backed Gull, Similarity: 0.8084\n",
      "Detail: Larus schistisagus https://ebird.org/species/slbgul/JP-13\n",
      "Matched: Eyebrowed Thrush, Similarity: 0.8069\n",
      "Detail: Turdus obscurus https://ebird.org/species/eyethr/JP-13\n"
     ]
    }
   ],
   "source": [
    "# Queries\n",
    "test_queries = [\"オスの成鳥は、頭が青灰色、背が褐色、腹がオレンジ色\"]\n",
    "for query in test_queries:\n",
    "    print(f\"\\nSearch: {query}\")\n",
    "    results = matcher.match(query)\n",
    "\n",
    "    for key, similarity in results:\n",
    "        print(f\"Matched: {key}, Similarity: {similarity:.4f}\")\n",
    "        # 可以进一步打印词条详细信息\n",
    "        print(\"Detail:\", entries[key][\"binomialName\"], entries[key][\"url\"])"
   ]
  }
 ],
 "metadata": {
  "kernelspec": {
   "display_name": "venv",
   "language": "python",
   "name": "python3"
  },
  "language_info": {
   "codemirror_mode": {
    "name": "ipython",
    "version": 3
   },
   "file_extension": ".py",
   "mimetype": "text/x-python",
   "name": "python",
   "nbconvert_exporter": "python",
   "pygments_lexer": "ipython3",
   "version": "3.9.6"
  }
 },
 "nbformat": 4,
 "nbformat_minor": 2
}
