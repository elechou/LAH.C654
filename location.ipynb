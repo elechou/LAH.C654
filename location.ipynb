{
 "cells": [
  {
   "cell_type": "code",
   "execution_count": null,
   "metadata": {},
   "outputs": [],
   "source": [
    "from sentence_transformers import SentenceTransformer\n",
    "import os\n",
    "\n",
    "# Specify a local download path\n",
    "cache_folder = os.path.expanduser('/Users/shou/Code/huggingface_models')\n",
    "os.makedirs(cache_folder, exist_ok=True)\n",
    "\n",
    "# Try downloading manually first\n",
    "model = SentenceTransformer('intfloat/multilingual-e5-large', \n",
    "                             cache_folder=cache_folder, \n",
    "                             local_files_only=False)\n",
    "\n",
    "print(model.cache_folder)"
   ]
  }
 ],
 "metadata": {
  "kernelspec": {
   "display_name": "venv",
   "language": "python",
   "name": "python3"
  },
  "language_info": {
   "codemirror_mode": {
    "name": "ipython",
    "version": 3
   },
   "file_extension": ".py",
   "mimetype": "text/x-python",
   "name": "python",
   "nbconvert_exporter": "python",
   "pygments_lexer": "ipython3",
   "version": "3.9.6"
  }
 },
 "nbformat": 4,
 "nbformat_minor": 2
}
