{
 "cells": [
  {
   "cell_type": "code",
   "execution_count": 1,
   "metadata": {},
   "outputs": [],
   "source": [
    "from langchain_chroma import Chroma\n",
    "from langchain_nvidia_ai_endpoints import NVIDIAEmbeddings\n",
    "from typing import List\n",
    "from langchain.docstore.document import Document\n",
    "import json\n",
    "import os\n",
    "from dotenv import load_dotenv\n",
    "\n",
    "# Load, and index the contents of bird.\n",
    "class BirdDataLoader:\n",
    "    \"\"\"\n",
    "    A loader specifically designed to load bird data,\n",
    "    with the identification as the page_content and the other fields as metadata.\n",
    "    \"\"\"\n",
    "    \n",
    "    def __init__(self, file_path: str):\n",
    "        self.file_path = file_path\n",
    "        \n",
    "    def load(self) -> List[Document]:\n",
    "        \"\"\"\n",
    "        Load and process bird data.\n",
    "        \n",
    "        Return:\n",
    "            List[Document]: List of documents, including:\n",
    "                - page_content: identification\n",
    "                - metadata: bird_name、binomial_name、macaulay_id, url\n",
    "        \"\"\"\n",
    "        # Read JSON\n",
    "        with open(self.file_path, 'r', encoding='utf-8') as f:\n",
    "            data = json.load(f)\n",
    "        \n",
    "        documents = []\n",
    "        \n",
    "        for bird_name, bird_info in data.items():\n",
    "            doc = Document(\n",
    "                page_content=f\"{bird_name}, also called {bird_info['binomialName']}, is {bird_info['identification']}\",\n",
    "                metadata={\n",
    "                    'birdName': bird_name,\n",
    "                    'binomialName': bird_info['binomialName'],\n",
    "                    'macaulayID': bird_info['macaulayID'],\n",
    "                    'url': bird_info['url']\n",
    "                }\n",
    "            )\n",
    "            documents.append(doc)\n",
    "            \n",
    "        return documents\n",
    "    \n",
    "loader = BirdDataLoader('./source/ebird_data.json')\n",
    "docs = loader.load()"
   ]
  },
  {
   "cell_type": "code",
   "execution_count": 2,
   "metadata": {},
   "outputs": [],
   "source": [
    "# Load NIM API key\n",
    "load_dotenv()\n",
    "NVIDIA_API_KEY = os.getenv(\"NVIDIA_API_KEY\")\n",
    "\n",
    "embeddings_model = NVIDIAEmbeddings(\n",
    "    model=\"nvidia/llama-3.2-nv-embedqa-1b-v1\",\n",
    "    api_key=NVIDIA_API_KEY,\n",
    "    truncate=\"NONE\",\n",
    ")\n",
    "\n",
    "persist_directory = \"./chroma_db\"\n",
    "vectorstore = Chroma.from_documents(\n",
    "    documents=docs,\n",
    "    embedding=embeddings_model,\n",
    "    persist_directory=persist_directory,\n",
    "    collection_metadata={\"hnsw:space\": \"cosine\"},\n",
    ")"
   ]
  },
  {
   "cell_type": "code",
   "execution_count": 7,
   "metadata": {},
   "outputs": [
    {
     "data": {
      "text/plain": [
       "[(Document(metadata={'binomialName': 'Alcedo atthis', 'birdName': 'Common Kingfisher', 'macaulayID': '26854431', 'url': 'https://ebird.org/species/comkin1/JP-13'}, page_content='Common Kingfisher, also called Alcedo atthis, is Beautiful little blue-and-orange bird with a long, pointed bill. Often rather shy and inconspicuous despite bright plumage. Found along rivers, streams, lakes, and ponds—almost any fresh or brackish habitat with small fish. Often perches quietly in trees over water; most often seen in very fast low flight as a turquoise flash over the water, usually flying away. Easily detected once its high, shrill whistled call is learned, even if the bird itself is hidden. The only small blue kingfisher over much of its range.'),\n",
       "  0.30331742763519287),\n",
       " (Document(metadata={'binomialName': 'Eurystomus orientalis', 'birdName': 'Dollarbird', 'macaulayID': '382216911', 'url': 'https://ebird.org/species/dollar1/JP-13'}, page_content='Dollarbird, also called Eurystomus orientalis, is Heavily built, flat-headed dark blue bird with a short bright red bill. In flight has a characteristic white circle, or ‘dollar’, on each underwing. Juvenile lacks red bill. May resemble mynas in flight, but note longer wings, larger head, and more powerful, less frantic flight. Nests in cavities; typically tree hollows. Frequently perches on power-lines or in the tops of tall dead trees.'),\n",
       "  0.2826373141125267),\n",
       " (Document(metadata={'binomialName': 'Monticola solitarius', 'birdName': 'Blue Rock-Thrush', 'macaulayID': '97497371', 'url': 'https://ebird.org/species/burthr/JP-13'}, page_content='Blue Rock-Thrush, also called Monticola solitarius, is Medium-sized thrush-like bird, often seen on mountainsides, sea cliffs, quarries, ruins, and even towns. Males usually unmistakable: western birds are dark blue all over, but may appear all dark at a distance; eastern birds are blue with orange underparts. Females dark brown above, finely barred below. Long bill, wings, and tail make for a distinctive and very different shape than Rufous-tailed Rock-Thrush. Song is melodic and blackbird-like.'),\n",
       "  0.2704587892921899)]"
      ]
     },
     "execution_count": 7,
     "metadata": {},
     "output_type": "execute_result"
    }
   ],
   "source": [
    "loaded_vectorstore = Chroma(\n",
    "    persist_directory=persist_directory,\n",
    "    embedding_function=embeddings_model\n",
    ")\n",
    "\n",
    "loaded_vectorstore.similarity_search_with_relevance_scores(\"blue bird\", k=3)"
   ]
  },
  {
   "cell_type": "markdown",
   "metadata": {},
   "source": [
    "[0.6966825723648071,\n",
    " 0.7173626858874733,\n",
    " 0.7295412107078101]"
   ]
  }
 ],
 "metadata": {
  "kernelspec": {
   "display_name": "venv",
   "language": "python",
   "name": "python3"
  },
  "language_info": {
   "codemirror_mode": {
    "name": "ipython",
    "version": 3
   },
   "file_extension": ".py",
   "mimetype": "text/x-python",
   "name": "python",
   "nbconvert_exporter": "python",
   "pygments_lexer": "ipython3",
   "version": "3.11.10"
  }
 },
 "nbformat": 4,
 "nbformat_minor": 2
}
