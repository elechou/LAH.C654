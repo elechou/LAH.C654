{
 "cells": [
  {
   "cell_type": "code",
   "execution_count": 1,
   "metadata": {},
   "outputs": [
    {
     "name": "stderr",
     "output_type": "stream",
     "text": [
      "/var/folders/f1/516y0tf51mv6k214p2m54tph0000gn/T/ipykernel_25954/3148991527.py:1: TqdmExperimentalWarning: Using `tqdm.autonotebook.tqdm` in notebook mode. Use `tqdm.tqdm` instead to force console mode (e.g. in jupyter console)\n",
      "  from tqdm.autonotebook import tqdm, trange\n"
     ]
    }
   ],
   "source": [
    "from tqdm.autonotebook import tqdm, trange\n",
    "from sentence_transformers import SentenceTransformer\n",
    "import torch\n",
    "import numpy as np\n",
    "import json\n",
    "import os\n",
    "\n",
    "cache_folder = os.path.expanduser(\"/Users/shou/Code/huggingface_models\")\n",
    "\n",
    "model = SentenceTransformer(\n",
    "    \"dunzhang/stella_en_1.5B_v5\",\n",
    "    cache_folder=cache_folder,\n",
    "    local_files_only=False,\n",
    "    trust_remote_code=True,\n",
    ")"
   ]
  },
  {
   "cell_type": "code",
   "execution_count": 2,
   "metadata": {},
   "outputs": [],
   "source": [
    "# Input bird identifications\n",
    "with open(\"ebird_data.json\", \"r\", encoding=\"UTF-8\") as f:\n",
    "    entries = json.load(f)\n",
    "\n",
    "entryList = []\n",
    "for key, entry_info in entries.items():\n",
    "    entry_text = key + \", also called\" + entry_info[\"binomialName\"]+ \". \" + entry_info[\"identification\"]\n",
    "    entryList.append(entry_text)\n",
    "\n",
    "entry_embeddings = model.encode(entryList)"
   ]
  },
  {
   "cell_type": "code",
   "execution_count": 3,
   "metadata": {},
   "outputs": [],
   "source": [
    "# Prompt query\n",
    "def match(query):\n",
    "    query_prompt_name = \"s2p_query\"\n",
    "\n",
    "    query_embeddings = model.encode(query, prompt_name=query_prompt_name)\n",
    "    similarities = model.similarity(query_embeddings, entry_embeddings)\n",
    "\n",
    "    topk = 3\n",
    "    top_n_values, top_n_index = torch.topk(similarities, topk)\n",
    "    specieList = list(entries.keys())\n",
    "\n",
    "    top_n_similarities = {}\n",
    "    for value, index in zip(\n",
    "        top_n_values.flatten().tolist(), top_n_index.flatten().tolist()\n",
    "    ):\n",
    "        key = specieList[index]\n",
    "        top_n_similarities[key] = value\n",
    "\n",
    "    return top_n_similarities"
   ]
  },
  {
   "cell_type": "code",
   "execution_count": 4,
   "metadata": {},
   "outputs": [
    {
     "name": "stdout",
     "output_type": "stream",
     "text": [
      "Matched: Blue-and-white Flycatcher, Similarity: 0.5152\n",
      "Detail: Cyanoptila cyanomelana https://ebird.org/species/bawfly2/JP-13\n",
      "Matched: Blue Rock-Thrush, Similarity: 0.5012\n",
      "Detail: Monticola solitarius https://ebird.org/species/burthr/JP-13\n",
      "Matched: Red-flanked Bluetail, Similarity: 0.4920\n",
      "Detail: Tarsiger cyanurus https://ebird.org/species/refblu1/JP-13\n"
     ]
    }
   ],
   "source": [
    "top_n_similarities = match(\"blue\")\n",
    "\n",
    "for key, similarity in top_n_similarities.items():\n",
    "    print(f\"Matched: {key}, Similarity: {similarity:.4f}\")\n",
    "    print(\"Detail:\", entries[key][\"binomialName\"], entries[key][\"url\"])"
   ]
  },
  {
   "cell_type": "code",
   "execution_count": 7,
   "metadata": {},
   "outputs": [
    {
     "data": {
      "text/html": [
       "\n",
       "        <iframe\n",
       "            width=\"100%\"\n",
       "            height=\"650\"\n",
       "            src=\"http://127.0.0.1:8050/\"\n",
       "            frameborder=\"0\"\n",
       "            allowfullscreen\n",
       "            \n",
       "        ></iframe>\n",
       "        "
      ],
      "text/plain": [
       "<IPython.lib.display.IFrame at 0x133bc2f90>"
      ]
     },
     "metadata": {},
     "output_type": "display_data"
    }
   ],
   "source": [
    "from dash import Dash, dcc, html, Input, Output, State, callback\n",
    "\n",
    "external_stylesheets = [\"https://codepen.io/chriddyp/pen/bWLwgP.css\"]\n",
    "\n",
    "app = Dash(__name__, title=\"RAG-ebird\", external_stylesheets=external_stylesheets)\n",
    "\n",
    "\n",
    "app.layout = html.Div(\n",
    "    [\n",
    "        dcc.Input(\n",
    "            id=\"input-text-state\",\n",
    "            type=\"text\",\n",
    "            value=\"A blue bird next to water.\",\n",
    "            style={\"width\": \"1040px\", \"margin\": \"20px\"},\n",
    "        ),\n",
    "        html.Button(\n",
    "            id=\"submit-button-state\",\n",
    "            n_clicks=0,\n",
    "            children=\"Search\",\n",
    "            style={\"width\": \"200px\", \"margin-bottom\": \"30px\"},\n",
    "        ),\n",
    "        dcc.Loading(\n",
    "            id=\"loading\",\n",
    "            type=\"default\",\n",
    "            children=html.Div(\n",
    "                id=\"output-state\", style={\"display\": \"flex\", \"height\": \"540\"}\n",
    "            ),\n",
    "        ),\n",
    "    ],\n",
    "    style={\"display\": \"flex\", \"flex-direction\": \"column\", \"align-items\": \"center\"},\n",
    ")\n",
    "\n",
    "\n",
    "def return_iframe(macaulayID):\n",
    "    macaulayLink = \"https://macaulaylibrary.org/asset/\" + macaulayID + \"/embed\"\n",
    "\n",
    "    iframeObj = html.Iframe(\n",
    "        src=macaulayLink,\n",
    "        height=500,\n",
    "        width=320,\n",
    "        style={\"border\": \"none\"},\n",
    "        allow=\"fullscreen\",\n",
    "    )\n",
    "\n",
    "    return iframeObj\n",
    "\n",
    "\n",
    "@callback(\n",
    "    Output(\"output-state\", \"children\"),\n",
    "    Input(\"submit-button-state\", \"n_clicks\"),\n",
    "    State(\"input-text-state\", \"value\"),\n",
    ")\n",
    "def update_output(n_clicks, input_text):\n",
    "    # 3 iframes\n",
    "    results = match(input_text)\n",
    "    iframes = []\n",
    "\n",
    "    for key, similarity in results.items():\n",
    "        thisIframe = return_iframe(entries[key][\"macaulayID\"])\n",
    "        iframes.append(\n",
    "            html.Div(\n",
    "                [f\"Similarity: {similarity:.4f}\", thisIframe],\n",
    "                style={\n",
    "                    \"display\": \"flex\",\n",
    "                    \"flex-direction\": \"column\",\n",
    "                    \"margin\": \"20px\",\n",
    "                    \"font-family\": \"jura\",\n",
    "                    \"font-weight\": \"bold\",\n",
    "                },\n",
    "            )\n",
    "        )\n",
    "        # iframes.append(thisIframe)\n",
    "\n",
    "    return iframes\n",
    "\n",
    "\n",
    "if __name__ == \"__main__\":\n",
    "    app.run(debug=False)"
   ]
  }
 ],
 "metadata": {
  "kernelspec": {
   "display_name": "venv",
   "language": "python",
   "name": "python3"
  },
  "language_info": {
   "codemirror_mode": {
    "name": "ipython",
    "version": 3
   },
   "file_extension": ".py",
   "mimetype": "text/x-python",
   "name": "python",
   "nbconvert_exporter": "python",
   "pygments_lexer": "ipython3",
   "version": "3.11.10"
  }
 },
 "nbformat": 4,
 "nbformat_minor": 2
}
